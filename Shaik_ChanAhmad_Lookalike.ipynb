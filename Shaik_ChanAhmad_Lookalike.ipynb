{
 "cells": [
  {
   "cell_type": "code",
   "execution_count": 1,
   "id": "f1f8b721",
   "metadata": {},
   "outputs": [],
   "source": [
    "import pandas as pd\n",
    "from sklearn.metrics.pairwise import cosine_similarity\n",
    "from sklearn.preprocessing import StandardScaler"
   ]
  },
  {
   "cell_type": "code",
   "execution_count": 2,
   "id": "d1ff3fec",
   "metadata": {},
   "outputs": [],
   "source": [
    "# Load the datasets\n",
    "customers = pd.read_csv(r'C:\\Users\\DELL\\Downloads\\Customers.csv')\n",
    "products = pd.read_csv(r'C:\\Users\\DELL\\Downloads\\Products.csv')\n",
    "transactions = pd.read_csv(r'C:\\Users\\DELL\\Downloads\\Transactions.csv')"
   ]
  },
  {
   "cell_type": "code",
   "execution_count": 3,
   "id": "32c56467",
   "metadata": {},
   "outputs": [],
   "source": [
    "# Merge customers and transactions data\n",
    "customer_transactions = pd.merge(transactions, customers, on='CustomerID')\n",
    "customer_transactions = pd.merge(customer_transactions, products, on='ProductID')\n"
   ]
  },
  {
   "cell_type": "code",
   "execution_count": 4,
   "id": "329b90c2",
   "metadata": {},
   "outputs": [],
   "source": [
    "# Create features based on transaction history\n",
    "customer_features = customer_transactions.groupby('CustomerID').agg({\n",
    "    'TotalValue': 'sum',\n",
    "    'Quantity': 'sum',\n",
    "    'ProductID': 'nunique'\n",
    "}).reset_index()"
   ]
  },
  {
   "cell_type": "code",
   "execution_count": 5,
   "id": "32afa672",
   "metadata": {},
   "outputs": [],
   "source": [
    "# Normalize the data\n",
    "scaler = StandardScaler()\n",
    "customer_features[['TotalValue', 'Quantity', 'ProductID']] = scaler.fit_transform(\n",
    "    customer_features[['TotalValue', 'Quantity', 'ProductID']]\n",
    ")"
   ]
  },
  {
   "cell_type": "code",
   "execution_count": 6,
   "id": "f69fac32",
   "metadata": {},
   "outputs": [],
   "source": [
    "# Calculate cosine similarity between customers based on transaction history\n",
    "cos_sim = cosine_similarity(customer_features[['TotalValue', 'Quantity', 'ProductID']])"
   ]
  },
  {
   "cell_type": "code",
   "execution_count": 7,
   "id": "b6bc89ce",
   "metadata": {},
   "outputs": [],
   "source": [
    "# Create a DataFrame to store similarity scores\n",
    "similarity_df = pd.DataFrame(cos_sim, columns=customer_features['CustomerID'], index=customer_features['CustomerID'])"
   ]
  },
  {
   "cell_type": "code",
   "execution_count": 8,
   "id": "f5fbc531",
   "metadata": {},
   "outputs": [],
   "source": [
    "# For each customer, find top 3 similar customers\n",
    "top_similar_customers = {}\n",
    "for customer_id in customer_features['CustomerID']:\n",
    "    similar_customers = similarity_df[customer_id].nlargest(4).iloc[1:]  # Exclude the customer itself\n",
    "    top_similar_customers[customer_id] = similar_customers"
   ]
  },
  {
   "cell_type": "code",
   "execution_count": 9,
   "id": "05053cf6",
   "metadata": {},
   "outputs": [],
   "source": [
    "# Save the results to Lookalike.csv\n",
    "lookalike_data = []\n",
    "for customer_id, similar_customers in top_similar_customers.items():\n",
    "    for similar_id, score in similar_customers.items():\n",
    "        lookalike_data.append({'CustomerID': customer_id, 'SimilarCustomerID': similar_id, 'Score': score})"
   ]
  },
  {
   "cell_type": "code",
   "execution_count": 10,
   "id": "1b0d1d29",
   "metadata": {},
   "outputs": [
    {
     "name": "stdout",
     "output_type": "stream",
     "text": [
      "Lookalike model completed. Output saved to Lookalike.csv.\n"
     ]
    }
   ],
   "source": [
    "lookalike_df = pd.DataFrame(lookalike_data)\n",
    "lookalike_df.to_csv('Lookalike.csv', index=False)\n",
    "print(\"Lookalike model completed. Output saved to Lookalike.csv.\")"
   ]
  },
  {
   "cell_type": "code",
   "execution_count": 11,
   "id": "a4822b9a",
   "metadata": {},
   "outputs": [],
   "source": [
    "lookalike_df.to_csv(r'C:\\Users\\DELL\\Downloads\\Lookalike.csv', index=False)\n"
   ]
  },
  {
   "cell_type": "code",
   "execution_count": null,
   "id": "5a22855c",
   "metadata": {},
   "outputs": [],
   "source": []
  }
 ],
 "metadata": {
  "kernelspec": {
   "display_name": "Python 3 (ipykernel)",
   "language": "python",
   "name": "python3"
  },
  "language_info": {
   "codemirror_mode": {
    "name": "ipython",
    "version": 3
   },
   "file_extension": ".py",
   "mimetype": "text/x-python",
   "name": "python",
   "nbconvert_exporter": "python",
   "pygments_lexer": "ipython3",
   "version": "3.10.11"
  }
 },
 "nbformat": 4,
 "nbformat_minor": 5
}
